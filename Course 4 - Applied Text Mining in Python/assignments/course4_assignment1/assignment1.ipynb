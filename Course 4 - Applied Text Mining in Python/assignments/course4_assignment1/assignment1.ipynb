{
 "cells": [
  {
   "cell_type": "markdown",
   "metadata": {
    "deletable": false,
    "editable": false,
    "nbgrader": {
     "cell_type": "markdown",
     "checksum": "cacf7f4360d6d53c622742f64048f72c",
     "grade": false,
     "grade_id": "cell-8a754c8ce8a16eeb",
     "locked": true,
     "schema_version": 3,
     "solution": false,
     "task": false
    }
   },
   "source": [
    "# Assignment 1\n",
    "\n",
    "In this assignment, you'll be working with messy medical data and using regex to extract relevant infromation from the data. \n",
    "\n",
    "Each line of the `dates.txt` file corresponds to a medical note. Each note has a date that needs to be extracted, but each date is encoded in one of many formats.\n",
    "\n",
    "The goal of this assignment is to correctly identify all of the different date variants encoded in this dataset and to properly normalize and sort the dates. \n",
    "\n",
    "Here is a list of some of the variants you might encounter in this dataset:\n",
    "* 04/20/2009; 04/20/09; 4/20/09; 4/3/09\n",
    "* Mar-20-2009; Mar 20, 2009; March 20, 2009;  Mar. 20, 2009; Mar 20 2009;\n",
    "* 20 Mar 2009; 20 March 2009; 20 Mar. 2009; 20 March, 2009\n",
    "* Mar 20th, 2009; Mar 21st, 2009; Mar 22nd, 2009\n",
    "* Feb 2009; Sep 2009; Oct 2010\n",
    "* 6/2008; 12/2009\n",
    "* 2009; 2010\n",
    "\n",
    "Once you have extracted these date patterns from the text, the next step is to sort them in ascending chronological order accoring to the following rules:\n",
    "* Assume all dates in xx/xx/xx format are mm/dd/yy\n",
    "* Assume all dates where year is encoded in only two digits are years from the 1900's (e.g. 1/5/89 is January 5th, 1989)\n",
    "* If the day is missing (e.g. 9/2009), assume it is the first day of the month (e.g. September 1, 2009).\n",
    "* If the month is missing (e.g. 2010), assume it is the first of January of that year (e.g. January 1, 2010).\n",
    "* Watch out for potential typos as this is a raw, real-life derived dataset.\n",
    "\n",
    "With these rules in mind, find the correct date in each note and return a pandas Series in chronological order of the original Series' indices. **This Series should be sorted by a tie-break sort in the format of (\"extracted date\", \"original row number\").**\n",
    "\n",
    "For example if the original series was this:\n",
    "\n",
    "    0    1999\n",
    "    1    2010\n",
    "    2    1978\n",
    "    3    2015\n",
    "    4    1985\n",
    "\n",
    "Your function should return this:\n",
    "\n",
    "    0    2\n",
    "    1    4\n",
    "    2    0\n",
    "    3    1\n",
    "    4    3\n",
    "\n",
    "Your score will be calculated using [Kendall's tau](https://en.wikipedia.org/wiki/Kendall_rank_correlation_coefficient), a correlation measure for ordinal data.\n",
    "\n",
    "*This function should return a Series of length 500 and dtype int.*"
   ]
  },
  {
   "cell_type": "code",
   "execution_count": 16,
   "metadata": {
    "deletable": false,
    "editable": false,
    "nbgrader": {
     "cell_type": "code",
     "checksum": "4b47ce38a503bfb1f113580f394d8667",
     "grade": false,
     "grade_id": "cell-28048f36edc32946",
     "locked": true,
     "schema_version": 3,
     "solution": false,
     "task": false
    }
   },
   "outputs": [
    {
     "data": {
      "text/plain": [
       "0         03/25/93 Total time of visit (in minutes):\\n\n",
       "1                       6/18/85 Primary Care Doctor:\\n\n",
       "2    sshe plans to move as of 7/8/71 In-Home Servic...\n",
       "3                7 on 9/27/75 Audit C Score Current:\\n\n",
       "4    2/6/96 sleep studyPain Treatment Pain Level (N...\n",
       "5                    .Per 7/06/79 Movement D/O note:\\n\n",
       "6    4, 5/18/78 Patient's thoughts about current su...\n",
       "7    10/24/89 CPT Code: 90801 - Psychiatric Diagnos...\n",
       "8                         3/7/86 SOS-10 Total Score:\\n\n",
       "9             (4/10/71)Score-1Audit C Score Current:\\n\n",
       "dtype: object"
      ]
     },
     "execution_count": 16,
     "metadata": {},
     "output_type": "execute_result"
    }
   ],
   "source": [
    "import pandas as pd\n",
    "\n",
    "doc = []\n",
    "with open('assets/dates.txt') as file:\n",
    "    for line in file:\n",
    "        doc.append(line)\n",
    "\n",
    "df = pd.Series(doc)\n",
    "df.head(10)"
   ]
  },
  {
   "cell_type": "code",
   "execution_count": 19,
   "metadata": {
    "deletable": false,
    "nbgrader": {
     "cell_type": "code",
     "checksum": "3e58e227860ae4b02d6bdddd81506787",
     "grade": false,
     "grade_id": "cell-d6f35a51303ed6ff",
     "locked": false,
     "schema_version": 3,
     "solution": true,
     "task": false
    }
   },
   "outputs": [
    {
     "data": {
      "text/plain": [
       "0        9\n",
       "1       84\n",
       "2        2\n",
       "3       53\n",
       "4       28\n",
       "      ... \n",
       "495    427\n",
       "496    141\n",
       "497    186\n",
       "498    161\n",
       "499    413\n",
       "Length: 500, dtype: int64"
      ]
     },
     "execution_count": 19,
     "metadata": {},
     "output_type": "execute_result"
    }
   ],
   "source": [
    "# Function to convert date strings to datetime objects\n",
    "def parse_date(date_str):\n",
    "    for fmt in (\"%m/%d/%Y\", \"%m/%d/%y\", \"%b-%d-%Y\", \"%b %d, %Y\", \"%B %d, %Y\", \"%B %d %Y\", \"%b %d %Y\", \"%b. %d, %Y\",\"%B. %d, %Y\", \"%d %b %Y\", \"%d %B %Y\", \"%b %dth, %Y\", \"%B %dth, %Y\", \"%b %dst, %Y\", \"%B %dst, %Y\", \"%b %dnd, %Y\", \"%B %dnd, %Y\", \"%b %drd, %Y\", \"%B %drd, %Y\", \"%b %dth, %Y\", \"%B %dth, %Y\", \"%b %dst, %Y\", \"%B %dst, %Y\", \"%b %dnd, %Y\", \"%B %dnd, %Y\", \"%b %drd, %Y\", \"%B %drd, %Y\", \"%b %dth, %Y\", \"%B %dth, %Y\", \"%B %Y\", \"%b %Y\", \"%B, %Y\", \"%b, %Y\"):\n",
    "        try:\n",
    "            return pd.to_datetime(date_str, format=fmt)\n",
    "        except ValueError:\n",
    "            continue\n",
    "    return pd.NaT\n",
    "\n",
    "def date_sorter():\n",
    "    import re\n",
    "    columnText = df.copy()\n",
    "    df_result = pd.DataFrame({'text': columnText})\n",
    "   \n",
    "    df_result['text'] = df_result['text'].str.replace('Decemeber', 'December')\n",
    "\n",
    "    # 04/20/2009; 04/20/09; 4/20/09; 4/3/09\n",
    "    pattern1 = r'\\d{1,2}[/-]\\d{1,2}[/-](?:\\d{4}|\\d{2})'\n",
    "\n",
    "    # Mar-20-2009; Mar 20, 2009; March 20, 2009; Mar. 20, 2009; Mar 20 2009;\n",
    "    pattern2 = r'(?:Jan|Feb|Mar|Apr|May|Jun|Jul|Aug|Sep|Oct|Nov|Dec|January|February|March|April|May|June|July|August|September|October|November|December)[.\\-]?\\s\\d{1,2}[,-]?\\s\\d{4}'\n",
    "\n",
    "    # 20 Mar 2009; 20 March 2009; 20 Mar. 2009; 20 March, 2009\n",
    "    pattern3 = r'\\d{1,2}\\s(?:Jan|Feb|Mar|Apr|May|Jun|Jul|Aug|Sep|Oct|Nov|Dec|January|February|March|April|May|June|July|August|September|October|November|December)[.,]?\\s\\d{4}'\n",
    "\n",
    "    # Mar 20th, 2009; Mar 21st, 2009; Mar 22nd, 2009\n",
    "    pattern4 = r'(?:Jan|Feb|Mar|Apr|May|Jun|Jul|Aug|Sep|Oct|Nov|Dec|January|February|March|April|May|June|July|August|September|October|November|December)\\s\\d{1,2}[st|nd|rd|th],\\s\\d{4}'\n",
    "\n",
    "    # Feb 2009; Sep 2009; Oct 2010\n",
    "    pattern5 = r'(?:Jan|Feb|Mar|Apr|May|Jun|Jul|Aug|Sep|Oct|Nov|Dec|January|February|March|April|May|June|July|August|September|October|November|December)[.,]?\\s\\d{4}'\n",
    "\n",
    "    # 6/2008; 12/2009\n",
    "    pattern6 = r'\\d{1,2}/\\d{4}'\n",
    "\n",
    "    # 2009; 2010\n",
    "    pattern7 = r'\\d{4}'\n",
    "\n",
    "    combined_pattern = f'{pattern1}|{pattern2}|{pattern3}|{pattern4}|{pattern5}|{pattern6}|{pattern7}'\n",
    "    df_result['matched_dates'] = df_result['text'].str.findall(combined_pattern)\n",
    "    df_result.to_excel('match.xlsx')\n",
    "    dates = [d[1] if d[0] == '7787' else d[0] for d in df_result['matched_dates']]\n",
    "    dates_result = []\n",
    "\n",
    "    months = {\n",
    "            '1': 'Jan',\n",
    "            '2': 'Feb',\n",
    "            '3': 'Mar',\n",
    "            '4': 'Apr',\n",
    "            '5': 'May',\n",
    "            '6': 'Jun',\n",
    "            '7': 'Jul',\n",
    "            '8': 'Aug',\n",
    "            '9': 'Sep',\n",
    "            '10': 'Oct',\n",
    "            '11': 'Nov',\n",
    "            '12': 'Dec'\n",
    "        }\n",
    "    for date in dates:\n",
    "        # If the day is missing (e.g. 9/2009), assume it is the first day of the month (e.g. September 1, 2009).\n",
    "        if (bool(re.match(r'\\b\\d{1,2}/\\d{4}\\b', date))):\n",
    "            d_split = date.split('/')\n",
    "            # print(d_split)\n",
    "            m = d_split[0]\n",
    "            y = d_split[1]\n",
    "            if (m.startswith('0')):\n",
    "                m = m[1]\n",
    "            # print(f'{months[m]} 1, {y}')\n",
    "            dates_result.append(f'{months[m]} 1, {y}')\n",
    "\n",
    "        # If the month is missing (e.g. 2010), assume it is the first of January of that year (e.g. January 1, 2010).\n",
    "        elif (bool(re.match(r'\\b\\d{4}\\b', date))):\n",
    "            dates_result.append(f'Jan 1, {date}')\n",
    "        # Assume all dates where year is encoded in only two digits are years from the 1900's (e.g. 1/5/89 is January 5th, 1989)  \n",
    "        elif (bool(re.match(r'\\b\\d{1,2}[/-]\\d{1,2}[/-]\\d{2}\\b', date))):\n",
    "            # print(date)\n",
    "            d_split = re.split('/|-', date)\n",
    "            # print(d_split)\n",
    "            m = d_split[0]\n",
    "            if (m.startswith('0')):\n",
    "                m = m[1]\n",
    "            d = d_split[1]\n",
    "            if (d.startswith('0')):\n",
    "                d = d[1]\n",
    "            y = d_split[-1]\n",
    "            ord = 'th'\n",
    "            if d == '1':\n",
    "                ord = 'st'\n",
    "            elif d == '2':\n",
    "                ord = 'nd'\n",
    "            elif d == '3':\n",
    "                ord = 'rd'\n",
    "            # print(f'{months[m]} {d}, 19{y}')\n",
    "            dates_result.append(f'{months[m]} {d}, 19{y}')\n",
    "        else:\n",
    "            dates_result.append(date)\n",
    "    df_result['matched_dates'] = dates_result\n",
    "\n",
    "    # Define a function to handle multiple date formats\n",
    "    def parse_date(date_str):\n",
    "        for fmt in (\"%m/%d/%Y\", \"%m/%d/%y\", \"%b-%d-%Y\", \"%b %d, %Y\", \"%B %d, %Y\", \"%B %d %Y\", \"%b %d %Y\", \"%b. %d, %Y\",\"%B. %d, %Y\", \"%d %b %Y\", \"%d %B %Y\", \"%b %dth, %Y\", \"%B %dth, %Y\", \"%b %dst, %Y\", \"%B %dst, %Y\", \"%b %dnd, %Y\", \"%B %dnd, %Y\", \"%b %drd, %Y\", \"%B %drd, %Y\", \"%b %dth, %Y\", \"%B %dth, %Y\", \"%b %dst, %Y\", \"%B %dst, %Y\", \"%b %dnd, %Y\", \"%B %dnd, %Y\", \"%b %drd, %Y\", \"%B %drd, %Y\", \"%b %dth, %Y\", \"%B %dth, %Y\", \"%B %Y\", \"%b %Y\", \"%B, %Y\", \"%b, %Y\"):\n",
    "            try:\n",
    "                return pd.to_datetime(date_str, format=fmt)\n",
    "            except ValueError:\n",
    "                continue\n",
    "        return pd.NaT\n",
    "\n",
    "    # Apply the function to the DataFrame\n",
    "    df_result['date'] = df_result['matched_dates'].apply(parse_date)\n",
    "    # df_result.to_excel('result.xlsx')\n",
    "    df_result.sort_values(by='date', inplace=True, kind='stable')\n",
    "    order =  pd.Series(df_result.index.tolist())\n",
    "    # df_result.to_excel('result_sorted.xlsx')\n",
    "    # Your answer here\n",
    "    return order\n",
    "\n",
    "date_sorter()"
   ]
  },
  {
   "cell_type": "code",
   "execution_count": null,
   "metadata": {},
   "outputs": [],
   "source": []
  },
  {
   "cell_type": "code",
   "execution_count": null,
   "metadata": {
    "deletable": false,
    "editable": false,
    "nbgrader": {
     "cell_type": "code",
     "checksum": "c0843c1f0ad2aaa45fa9ac4012f1aa43",
     "grade": true,
     "grade_id": "cell-373f878879c00996",
     "locked": true,
     "points": 4,
     "schema_version": 3,
     "solution": false,
     "task": false
    }
   },
   "outputs": [],
   "source": []
  },
  {
   "cell_type": "code",
   "execution_count": null,
   "metadata": {
    "deletable": false,
    "editable": false,
    "nbgrader": {
     "cell_type": "code",
     "checksum": "0e2f5bb6bab79c07a81ec366c46c4d49",
     "grade": true,
     "grade_id": "cell-0ebae76e6cd794be",
     "locked": true,
     "points": 1,
     "schema_version": 3,
     "solution": false,
     "task": false
    }
   },
   "outputs": [],
   "source": []
  }
 ],
 "metadata": {
  "coursera": {
   "course_slug": "python-text-mining",
   "graded_item_id": "LvcWI",
   "launcher_item_id": "krne9",
   "part_id": "Mkp1I"
  },
  "kernelspec": {
   "display_name": "Python 3 (ipykernel)",
   "language": "python",
   "name": "python3"
  },
  "language_info": {
   "codemirror_mode": {
    "name": "ipython",
    "version": 3
   },
   "file_extension": ".py",
   "mimetype": "text/x-python",
   "name": "python",
   "nbconvert_exporter": "python",
   "pygments_lexer": "ipython3",
   "version": "3.9.13"
  },
  "vscode": {
   "interpreter": {
    "hash": "aee8b7b246df8f9039afb4144a1f6fd8d2ca17a180786b69acc140d282b71a49"
   }
  }
 },
 "nbformat": 4,
 "nbformat_minor": 4
}
