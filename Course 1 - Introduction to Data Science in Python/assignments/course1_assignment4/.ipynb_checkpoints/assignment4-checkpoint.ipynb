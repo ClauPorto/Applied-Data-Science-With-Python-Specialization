{
 "cells": [
  {
   "cell_type": "markdown",
   "metadata": {
    "deletable": false,
    "editable": false,
    "etc_identifier": "653a3605-5bda-4e1f-beef-04a0173d3f41",
    "nbgrader": {
     "cell_type": "markdown",
     "checksum": "60da2e57814a61cf6a81dd670bf35473",
     "grade": false,
     "grade_id": "cell-a6c4f74309fc2379",
     "locked": true,
     "schema_version": 3,
     "solution": false
    }
   },
   "source": [
    "# Assignment 4\n",
    "## Description\n",
    "In this assignment you must read in a file of metropolitan regions and associated sports teams from [assets/wikipedia_data.html](assets/wikipedia_data.html) and answer some questions about each metropolitan region. Each of these regions may have one or more teams from the \"Big 4\": NFL (football, in [assets/nfl.csv](assets/nfl.csv)), MLB (baseball, in [assets/mlb.csv](assets/mlb.csv)), NBA (basketball, in [assets/nba.csv](assets/nba.csv) or NHL (hockey, in [assets/nhl.csv](assets/nhl.csv)). Please keep in mind that all questions are from the perspective of the metropolitan region, and that this file is the \"source of authority\" for the location of a given sports team. Thus teams which are commonly known by a different area (e.g. \"Oakland Raiders\") need to be mapped into the metropolitan region given (e.g. San Francisco Bay Area). This will require some human data understanding outside of the data you've been given (e.g. you will have to hand-code some names, and might need to google to find out where teams are)!\n",
    "\n",
    "For each sport I would like you to answer the question: **what is the win/loss ratio's correlation with the population of the city it is in?** Win/Loss ratio refers to the number of wins over the number of wins plus the number of losses. Remember that to calculate the correlation with [`pearsonr`](https://docs.scipy.org/doc/scipy/reference/generated/scipy.stats.pearsonr.html), so you are going to send in two ordered lists of values, the populations from the wikipedia_data.html file and the win/loss ratio for a given sport in the same order. Average the win/loss ratios for those cities which have multiple teams of a single sport. Each sport is worth an equal amount in this assignment (20%\\*4=80%) of the grade for this assignment. You should only use data **from year 2018** for your analysis -- this is important!\n",
    "\n",
    "## Notes\n",
    "\n",
    "1. Do not include data about the MLS or CFL in any of the work you are doing, we're only interested in the Big 4 in this assignment.\n",
    "2. I highly suggest that you first tackle the four correlation questions in order, as they are all similar and worth the majority of grades for this assignment. This is by design!\n",
    "3. It's fair game to talk with peers about high level strategy as well as the relationship between metropolitan areas and sports teams. However, do not post code solving aspects of the assignment (including such as dictionaries mapping areas to teams, or regexes which will clean up names).\n",
    "4. There may be more teams than the assert statements test, remember to collapse multiple teams in one city into a single value!\n",
    "\n",
    "As this assignment utilizes global variables in the skeleton code, to avoid having errors in your code you can either:\n",
    "\n",
    "1. You can place all of your code within the function definitions for all of the questions (other than import statements).\n",
    "2. You can create copies of all the global variables with the copy() method and proceed as usual."
   ]
  },
  {
   "cell_type": "markdown",
   "metadata": {
    "deletable": false,
    "editable": false,
    "nbgrader": {
     "cell_type": "markdown",
     "checksum": "369ff9ecf0ee04640574205cbc697f94",
     "grade": false,
     "grade_id": "cell-712b2b5da63d4505",
     "locked": true,
     "schema_version": 3,
     "solution": false
    }
   },
   "source": [
    "## Question 1\n",
    "For this question, calculate the win/loss ratio's correlation with the population of the city it is in for the **NHL** using **2018** data."
   ]
  },
  {
   "cell_type": "code",
   "execution_count": 1,
   "metadata": {
    "deletable": false,
    "nbgrader": {
     "cell_type": "code",
     "checksum": "1cac4803b02502929f5b1612d48db2b5",
     "grade": false,
     "grade_id": "cell-69b16e4386e58030",
     "locked": false,
     "schema_version": 3,
     "solution": true
    }
   },
   "outputs": [
    {
     "data": {
      "text/plain": [
       "0.01230899645574427"
      ]
     },
     "execution_count": 1,
     "metadata": {},
     "output_type": "execute_result"
    }
   ],
   "source": [
    "import pandas as pd\n",
    "import numpy as np\n",
    "import scipy.stats as stats\n",
    "import re\n",
    "\n",
    "def clean_team_names_nhl(team_name):\n",
    "    team_name = re.sub(r'\\*', '', team_name) \n",
    "    team_name = re.sub(r'\\[.*?\\]', '', team_name) \n",
    "    return team_name.strip()\n",
    "\n",
    "def create_nhl_cities_df():\n",
    "    nhl_df = pd.read_csv(\"assets/nhl.csv\")\n",
    "     # YOUR CODE HERE\n",
    "    teams = {\n",
    "        \"Bay Lightning\" : \"Lightning\",\n",
    "        \"Louis Blues\" : \"Blues\",\n",
    "        \"Angeles Kings\" : \"Kings Ducks\",\n",
    "        \"Jose Sharks\": \"Sharks\",\n",
    "        \"Ducks\" : \"Kings Ducks\",\n",
    "        \"Jersey Devils\": \"Rangers Islanders Devils\",\n",
    "        \"York Rangers\" : \"Rangers Islanders Devils\",\n",
    "        \"York Islanders\" : \"Rangers Islanders Devils\",\n",
    "    }\n",
    "\n",
    "    # Clean nhl_df team column\n",
    "    nhl_df = nhl_df[nhl_df['year'] == 2018]\n",
    "    nhl_df = nhl_df[['team', 'W', 'L']]\n",
    "    nhl_df = nhl_df[~nhl_df['W'].str.contains('Division')]\n",
    "    nhl_df['team'] = nhl_df['team'].apply(clean_team_names_nhl)\n",
    "    nhl_df['team'] = nhl_df['team'].apply(lambda x : x.split(maxsplit=1)[1])\n",
    "    nhl_df['team'] = nhl_df['team'].replace(teams)\n",
    "    nhl_df['W'] = nhl_df['W'].astype(int)\n",
    "    nhl_df['L'] = nhl_df['L'].astype(int)\n",
    "    nhl_df = nhl_df.groupby(by = 'team')['W', 'L'].sum()\n",
    "    \n",
    "     # Load and clean cities NHL column\n",
    "    cities=pd.read_html(\"assets/wikipedia_data.html\")[1]\n",
    "    cities=cities.iloc[:-1,[0,3,5,6,7,8]]\n",
    "    cities['NHL'] = cities['NHL'].apply(clean_team_names_nhl)\n",
    "    cities = cities.rename(columns = {'NHL' : 'team'})\n",
    "    cities = cities[['team', 'Metropolitan area', 'Population (2016 est.)[8]']]\n",
    "\n",
    "    nhl_cities = pd.merge(nhl_df, cities, how='inner', on = \"team\")\n",
    "    nhl_cities['Population (2016 est.)[8]'] = nhl_cities['Population (2016 est.)[8]'].astype(float)\n",
    "    nhl_cities['W/L%'] = nhl_cities['W'] / (nhl_cities['W'] + nhl_cities['L'])\n",
    "    \n",
    "    return nhl_cities\n",
    "\n",
    "def nhl_correlation(): \n",
    "    # Load and clean nhl_df\n",
    "    nhl_cities = create_nhl_cities_df()\n",
    "    \n",
    "    population_by_region = nhl_cities['Population (2016 est.)[8]'] # pass in metropolitan area population from cities\n",
    "    win_loss_by_region = nhl_cities['W/L%'] # pass in win/loss ratio from nhl_df in the same order as cities[\"Metropolitan area\"]\n",
    "\n",
    "    assert len(population_by_region) == len(win_loss_by_region), \"Q1: Your lists must be the same length\"\n",
    "    assert len(population_by_region) == 28, \"Q1: There should be 28 teams being analysed for NHL\"\n",
    "    \n",
    "    return stats.pearsonr(population_by_region, win_loss_by_region)[0]\n",
    "nhl_correlation()"
   ]
  },
  {
   "cell_type": "code",
   "execution_count": null,
   "metadata": {
    "deletable": false,
    "editable": false,
    "nbgrader": {
     "cell_type": "code",
     "checksum": "52a581df513c71153e105b93764cda4b",
     "grade": true,
     "grade_id": "cell-ebe0b2dfe1067e63",
     "locked": true,
     "points": 20,
     "schema_version": 3,
     "solution": false
    }
   },
   "outputs": [],
   "source": []
  },
  {
   "cell_type": "markdown",
   "metadata": {
    "deletable": false,
    "editable": false,
    "nbgrader": {
     "cell_type": "markdown",
     "checksum": "988912cae4968d81473f46d783e79c16",
     "grade": false,
     "grade_id": "cell-cb964e690298b71d",
     "locked": true,
     "schema_version": 3,
     "solution": false
    }
   },
   "source": [
    "## Question 2\n",
    "For this question, calculate the win/loss ratio's correlation with the population of the city it is in for the **NBA** using **2018** data."
   ]
  },
  {
   "cell_type": "code",
   "execution_count": 2,
   "metadata": {
    "deletable": false,
    "nbgrader": {
     "cell_type": "code",
     "checksum": "9394222aafc8ccab0a228098ba0d6010",
     "grade": false,
     "grade_id": "cell-5a5f21279e3d3572",
     "locked": false,
     "schema_version": 3,
     "solution": true
    }
   },
   "outputs": [
    {
     "data": {
      "text/plain": [
       "0.33099404238496155"
      ]
     },
     "execution_count": 2,
     "metadata": {},
     "output_type": "execute_result"
    }
   ],
   "source": [
    "import pandas as pd\n",
    "import numpy as np\n",
    "import scipy.stats as stats\n",
    "import re\n",
    "\n",
    "def clean_team_names_nba(team_name):\n",
    "    team_name = re.sub(r'\\*.*$', '', team_name) \n",
    "    team_name = re.sub(r'\\(.*?\\)', '', team_name) \n",
    "    team_name = re.sub(r'\\[.*?\\]', '', team_name) \n",
    "    return team_name.strip()\n",
    "\n",
    "def create_nba_cities_df():\n",
    "    nba_df=pd.read_csv(\"assets/nba.csv\")\n",
    "    teams = {\n",
    "        \"Angeles Clippers\" : \"Lakers Clippers\",\n",
    "        \"Angeles Lakers\" : \"Lakers Clippers\",\n",
    "        \"City Thunder\" : \"Thunder\",\n",
    "        \"Antonio Spurs\" : \"Spurs\",\n",
    "        \"Nets\" : \"Knicks Nets\",\n",
    "        \"York Knicks\" : \"Knicks Nets\",\n",
    "        \"Orleans Pelicans\" : \"Pelicans\",\n",
    "        \"State Warriors\" : \"Warriors\"\n",
    "    }\n",
    "    # Clean team column in nba_df dataframe\n",
    "\n",
    "    nba_df = nba_df[nba_df['year'] == 2018]\n",
    "    nba_df = nba_df[['team', 'W', 'L', 'W/L%']]\n",
    "    nba_df = nba_df[~nba_df['W'].str.contains('Division')]\n",
    "    nba_df['team'] = nba_df['team'].apply(clean_team_names_nba)    \n",
    "    nba_df['team'] = nba_df['team'].apply(lambda x : x.split(maxsplit=1)[1])\n",
    "    nba_df['team'] = nba_df['team'].replace(teams)\n",
    "    nba_df['W'] = nba_df['W'].astype(int)\n",
    "    nba_df['L'] = nba_df['L'].astype(int)\n",
    "    nba_df['W/L%'] = nba_df['W/L%'].astype(float)\n",
    "    nba_df = nba_df.groupby(by = 'team')['W', 'L','W/L%'].sum()\n",
    "    nba_df['W/L%'] = nba_df['W/L%'] / 2\n",
    "    \n",
    "    # Load and clean NBA column in cities dataframe\n",
    "    cities=pd.read_html(\"assets/wikipedia_data.html\")[1]\n",
    "    cities=cities.iloc[:-1,[0,3,5,6,7,8]]\n",
    "    cities = cities.rename(columns = {'NBA' : 'team'})\n",
    "    cities = cities[['team', 'Metropolitan area', 'Population (2016 est.)[8]']]\n",
    "    cities['team'] = cities['team'].apply(clean_team_names_nba)\n",
    "\n",
    "    nba_cities = pd.merge(nba_df, cities, how='inner', on = \"team\")\n",
    "    nba_cities['Population (2016 est.)[8]'] = nba_cities['Population (2016 est.)[8]'].astype(int)\n",
    "    \n",
    "    return nba_cities\n",
    "    \n",
    "def nba_correlation():\n",
    "    # YOUR CODE HERE\n",
    "    nba_cities = create_nba_cities_df()\n",
    "  \n",
    "    population_by_region = nba_cities['Population (2016 est.)[8]'] # pass in metropolitan area population from cities\n",
    "    win_loss_by_region = nba_cities['W/L%'] # pass in win/loss ratio from nba_df in the same order as cities[\"Metropolitan area\"]\n",
    "\n",
    "    assert len(population_by_region) == len(win_loss_by_region), \"Q2: Your lists must be the same length\"\n",
    "    assert len(population_by_region) == 28, \"Q2: There should be 28 teams being analysed for NBA\"\n",
    "\n",
    "    return stats.pearsonr(population_by_region, win_loss_by_region)[0]\n",
    "\n",
    "nba_correlation()"
   ]
  },
  {
   "cell_type": "code",
   "execution_count": null,
   "metadata": {
    "deletable": false,
    "editable": false,
    "nbgrader": {
     "cell_type": "code",
     "checksum": "bbdeb8eb22f525a34c10dc8798324e42",
     "grade": true,
     "grade_id": "cell-e573b2b4a282b470",
     "locked": true,
     "points": 20,
     "schema_version": 3,
     "solution": false
    }
   },
   "outputs": [],
   "source": []
  },
  {
   "cell_type": "markdown",
   "metadata": {
    "deletable": false,
    "editable": false,
    "nbgrader": {
     "cell_type": "markdown",
     "checksum": "1a1a5809f675ca033086422007cd73bd",
     "grade": false,
     "grade_id": "cell-96e15e4335df78f4",
     "locked": true,
     "schema_version": 3,
     "solution": false
    }
   },
   "source": [
    "## Question 3\n",
    "For this question, calculate the win/loss ratio's correlation with the population of the city it is in for the **MLB** using **2018** data."
   ]
  },
  {
   "cell_type": "code",
   "execution_count": 3,
   "metadata": {
    "deletable": false,
    "nbgrader": {
     "cell_type": "code",
     "checksum": "27e8c0da6c9fa0dffc10488314335b6c",
     "grade": false,
     "grade_id": "cell-33b00fc3f3467b0c",
     "locked": false,
     "schema_version": 3,
     "solution": true
    }
   },
   "outputs": [
    {
     "data": {
      "text/plain": [
       "0.15052304487104848"
      ]
     },
     "execution_count": 3,
     "metadata": {},
     "output_type": "execute_result"
    }
   ],
   "source": [
    "import pandas as pd\n",
    "import numpy as np\n",
    "import scipy.stats as stats\n",
    "import re\n",
    "\n",
    "def clean_team_names_mlb(team_name):\n",
    "    team_name = re.sub(r'\\*.*$', '', team_name) \n",
    "    team_name = re.sub(r'\\(.*?\\)', '', team_name) \n",
    "    team_name = re.sub(r'\\[.*?\\]', '', team_name) \n",
    "    return team_name.strip()\n",
    "\n",
    "def create_mlb_cities_df():\n",
    "    mlb_df=pd.read_csv(\"assets/mlb.csv\")\n",
    "    teams = {\n",
    "        \"Diego Padres\" : \"Padres\",\n",
    "        \"Cubs\" : \"Cubs White Sox\",\n",
    "        \"White Sox\" : \"Cubs White Sox\",\n",
    "        \"Francisco Giants\" : \"Giants Athletics\",\n",
    "        \"Athletics\" : \"Giants Athletics\",\n",
    "        \"Louis Cardinals\" : \"Cardinals\",\n",
    "        \"City Royals\" : \"Royals\",\n",
    "        \"York Mets\": \"Yankees Mets\",\n",
    "        \"York Yankees\" : \"Yankees Mets\",\n",
    "        \"Angeles Angels\" :\"Dodgers Angels\",\n",
    "        \"Angeles Dodgers\" : \"Dodgers Angels\",\n",
    "        \"Bay Rays\" : \"Rays\"\n",
    "    }\n",
    "\n",
    "    # Clean team column in nba_df dataframe\n",
    "    mlb_df = mlb_df[mlb_df['year'] == 2018]\n",
    "    mlb_df = mlb_df[['team', 'W', 'L']]\n",
    "    mlb_df['team'] = mlb_df['team'].apply(clean_team_names_mlb)    \n",
    "    mlb_df['team'] = mlb_df['team'].apply(lambda x : x.split(maxsplit=1)[1])\n",
    "    mlb_df['team'] = mlb_df['team'].replace(teams)\n",
    "    mlb_df['W'] = mlb_df['W'].astype(int)\n",
    "    mlb_df['L'] = mlb_df['L'].astype(int)\n",
    "    mlb_df = mlb_df.groupby(by = 'team')['W', 'L'].sum()\n",
    "    \n",
    "    # Clean NBA column in cities dataframe\n",
    "    cities=pd.read_html(\"assets/wikipedia_data.html\")[1]\n",
    "    cities=cities.iloc[:-1,[0,3,5,6,7,8]]\n",
    "    cities = cities.rename(columns = {'MLB' : 'team'})\n",
    "    cities = cities[['team', 'Metropolitan area', 'Population (2016 est.)[8]']]\n",
    "    cities['team'] = cities['team'].apply(clean_team_names_mlb)\n",
    "\n",
    "    mlb_cities = pd.merge(mlb_df, cities, how='inner', on = \"team\")\n",
    "    mlb_cities['Population (2016 est.)[8]'] = mlb_cities['Population (2016 est.)[8]'].astype(float)\n",
    "    mlb_cities['W/L%'] = mlb_cities['W'] / (mlb_cities['W'] + mlb_cities['L'])\n",
    "    \n",
    "    return mlb_cities\n",
    "        \n",
    "def mlb_correlation(): \n",
    "    # YOUR CODE HERE\n",
    "    mlb_cities = create_mlb_cities_df()\n",
    "   \n",
    "    population_by_region = mlb_cities['Population (2016 est.)[8]'] # pass in metropolitan area population from cities\n",
    "    win_loss_by_region = mlb_cities['W/L%'] # pass in win/loss ratio from mlb_df in the same order as cities[\"Metropolitan area\"]\n",
    "\n",
    "    assert len(population_by_region) == len(win_loss_by_region), \"Q3: Your lists must be the same length\"\n",
    "    assert len(population_by_region) == 26, \"Q3: There should be 26 teams being analysed for MLB\"\n",
    "\n",
    "    return stats.pearsonr(population_by_region, win_loss_by_region)[0]\n",
    "\n",
    "mlb_correlation()"
   ]
  },
  {
   "cell_type": "code",
   "execution_count": null,
   "metadata": {
    "deletable": false,
    "editable": false,
    "nbgrader": {
     "cell_type": "code",
     "checksum": "cda33b094ba19ccc37a481e0dd29e0bc",
     "grade": true,
     "grade_id": "cell-764d4476f425c5a2",
     "locked": true,
     "points": 20,
     "schema_version": 3,
     "solution": false
    }
   },
   "outputs": [],
   "source": []
  },
  {
   "cell_type": "markdown",
   "metadata": {
    "deletable": false,
    "editable": false,
    "nbgrader": {
     "cell_type": "markdown",
     "checksum": "6977a6da9ed6d8b7a0b7e37bbeda709b",
     "grade": false,
     "grade_id": "cell-793df6c04dfb126e",
     "locked": true,
     "schema_version": 3,
     "solution": false
    }
   },
   "source": [
    "## Question 4\n",
    "For this question, calculate the win/loss ratio's correlation with the population of the city it is in for the **NFL** using **2018** data."
   ]
  },
  {
   "cell_type": "code",
   "execution_count": 4,
   "metadata": {
    "deletable": false,
    "nbgrader": {
     "cell_type": "code",
     "checksum": "c4914ad1e119278ec2bd567c52640b66",
     "grade": false,
     "grade_id": "cell-8ccebc209aeec8d9",
     "locked": false,
     "schema_version": 3,
     "solution": true
    }
   },
   "outputs": [
    {
     "data": {
      "text/plain": [
       "0.00492211214934943"
      ]
     },
     "execution_count": 4,
     "metadata": {},
     "output_type": "execute_result"
    }
   ],
   "source": [
    "import pandas as pd\n",
    "import numpy as np\n",
    "import scipy.stats as stats\n",
    "import re\n",
    "\n",
    "def clean_team_names_nfl(team_name):\n",
    "    team_name = re.sub(r'\\+', '', team_name) \n",
    "    team_name = re.sub(r'\\*.*$', '', team_name) \n",
    "    team_name = re.sub(r'\\(.*?\\)', '', team_name) \n",
    "    team_name = re.sub(r'\\[.*?\\]', '', team_name) \n",
    "    return team_name.strip()\n",
    "\n",
    "def create_nfl_cities_df():\n",
    "    nfl_df=pd.read_csv(\"assets/nfl.csv\")\n",
    "    teams = {\n",
    "        \"Angeles Chargers\" : \"Rams Chargers\",\n",
    "        \"Angeles Rams\" : \"Rams Chargers\",\n",
    "        \"York Giants\" : \"Giants Jets\",\n",
    "        \"York Jets\" : \"Giants Jets\",\n",
    "        \"Orleans Saints\" : \"Saints\",\n",
    "        \"England Patriots\" : \"Patriots\",\n",
    "        \"Bay Packers\" : \"Packers\",\n",
    "        \"Bay Buccaneers\" : \"Buccaneers\",\n",
    "        \"City Chiefs\": \"Chiefs\",\n",
    "        \"Francisco 49ers\" : \"49ers Raiders\",\n",
    "        \"Raiders\" : \"49ersRaiders\"\n",
    "    }\n",
    "    # Clean team column in nfl_df dataframe\n",
    "    nfl_df = nfl_df[nfl_df['year'] == 2018]\n",
    "    nfl_df = nfl_df[~nfl_df['W'].str.contains('AFC')]\n",
    "    nfl_df = nfl_df[~nfl_df['W'].str.contains('NFC')]\n",
    "    nfl_df = nfl_df[['team', 'W', 'L']]\n",
    "    nfl_df['team'] = nfl_df['team'].apply(clean_team_names_nfl)    \n",
    "    nfl_df['team'] = nfl_df['team'].apply(lambda x : x.split(maxsplit=1)[1])\n",
    "    nfl_df['team'] = nfl_df['team'].replace(teams)\n",
    "    nfl_df['W'] = nfl_df['W'].astype(int)\n",
    "    nfl_df['L'] = nfl_df['L'].astype(int)\n",
    "    nfl_df = nfl_df.groupby(by = 'team')['W', 'L'].sum()\n",
    "    \n",
    "    # Clean NBA column in cities dataframe\n",
    "    cities=pd.read_html(\"assets/wikipedia_data.html\")[1]\n",
    "    cities=cities.iloc[:-1,[0,3,5,6,7,8]]\n",
    "    cities = cities.rename(columns = {'NFL' : 'team'})\n",
    "    cities = cities[['team', 'Metropolitan area', 'Population (2016 est.)[8]']]\n",
    "    cities['team'] = cities['team'].apply(clean_team_names_nfl)\n",
    "\n",
    "    nfl_cities = pd.merge(nfl_df, cities, how='inner', on = \"team\")\n",
    "    nfl_cities['Population (2016 est.)[8]'] = nfl_cities['Population (2016 est.)[8]'].astype(float)\n",
    "    nfl_cities['W/L%'] = nfl_cities['W'] / (nfl_cities['W'] + nfl_cities['L'])\n",
    "    \n",
    "    return nfl_cities\n",
    "\n",
    "def nfl_correlation(): \n",
    "    # YOUR CODE HERE\n",
    "    nfl_cities = create_nfl_cities_df()\n",
    "    \n",
    "    population_by_region =  nfl_cities['Population (2016 est.)[8]']  # pass in metropolitan area population from cities\n",
    "    win_loss_by_region = nfl_cities['W/L%'] # pass in win/loss ratio from nfl_df in the same order as cities[\"Metropolitan area\"]\n",
    "\n",
    "    assert len(population_by_region) == len(win_loss_by_region), \"Q4: Your lists must be the same length\"\n",
    "    assert len(population_by_region) == 29, \"Q4: There should be 29 teams being analysed for NFL\"\n",
    "\n",
    "    return stats.pearsonr(population_by_region, win_loss_by_region)[0]\n",
    "nfl_correlation()"
   ]
  },
  {
   "cell_type": "code",
   "execution_count": null,
   "metadata": {
    "deletable": false,
    "editable": false,
    "nbgrader": {
     "cell_type": "code",
     "checksum": "e9415d6399aa49e3a1a60813afdefa3b",
     "grade": true,
     "grade_id": "cell-de7b148b9554dbda",
     "locked": true,
     "points": 20,
     "schema_version": 3,
     "solution": false
    }
   },
   "outputs": [],
   "source": []
  },
  {
   "cell_type": "markdown",
   "metadata": {
    "deletable": false,
    "editable": false,
    "nbgrader": {
     "cell_type": "markdown",
     "checksum": "b02d5cd3273f561e4ae939bb2a41740c",
     "grade": false,
     "grade_id": "cell-97b49d8639e908c4",
     "locked": true,
     "schema_version": 3,
     "solution": false
    }
   },
   "source": [
    "## Question 5\n",
    "In this question I would like you to explore the hypothesis that **given that an area has two sports teams in different sports, those teams will perform the same within their respective sports**. How I would like to see this explored is with a series of paired t-tests (so use [`ttest_rel`](https://docs.scipy.org/doc/scipy/reference/generated/scipy.stats.ttest_rel.html)) between all pairs of sports. Are there any sports where we can reject the null hypothesis? Again, average values where a sport has multiple teams in one region. Remember, you will only be including, for each sport, cities which have teams engaged in that sport, drop others as appropriate. This question is worth 20% of the grade for this assignment."
   ]
  },
  {
   "cell_type": "code",
   "execution_count": 7,
   "metadata": {
    "deletable": false,
    "nbgrader": {
     "cell_type": "code",
     "checksum": "6d78c961eb66f8d8c81f06d33ae8f393",
     "grade": false,
     "grade_id": "cell-92f25f44b8d1179f",
     "locked": false,
     "schema_version": 3,
     "solution": true
    }
   },
   "outputs": [
    {
     "data": {
      "text/html": [
       "<div>\n",
       "<style scoped>\n",
       "    .dataframe tbody tr th:only-of-type {\n",
       "        vertical-align: middle;\n",
       "    }\n",
       "\n",
       "    .dataframe tbody tr th {\n",
       "        vertical-align: top;\n",
       "    }\n",
       "\n",
       "    .dataframe thead th {\n",
       "        text-align: right;\n",
       "    }\n",
       "</style>\n",
       "<table border=\"1\" class=\"dataframe\">\n",
       "  <thead>\n",
       "    <tr style=\"text-align: right;\">\n",
       "      <th></th>\n",
       "      <th>NFL</th>\n",
       "      <th>NBA</th>\n",
       "      <th>NHL</th>\n",
       "      <th>MLB</th>\n",
       "    </tr>\n",
       "  </thead>\n",
       "  <tbody>\n",
       "    <tr>\n",
       "      <th>NFL</th>\n",
       "      <td>NaN</td>\n",
       "      <td>1.843955e-05</td>\n",
       "      <td>3.095851e-02</td>\n",
       "      <td>8.023839e-01</td>\n",
       "    </tr>\n",
       "    <tr>\n",
       "      <th>NBA</th>\n",
       "      <td>0.000018</td>\n",
       "      <td>NaN</td>\n",
       "      <td>3.429605e-09</td>\n",
       "      <td>1.012654e-08</td>\n",
       "    </tr>\n",
       "    <tr>\n",
       "      <th>NHL</th>\n",
       "      <td>0.030959</td>\n",
       "      <td>3.429605e-09</td>\n",
       "      <td>NaN</td>\n",
       "      <td>7.118714e-04</td>\n",
       "    </tr>\n",
       "    <tr>\n",
       "      <th>MLB</th>\n",
       "      <td>0.802384</td>\n",
       "      <td>1.012654e-08</td>\n",
       "      <td>7.118714e-04</td>\n",
       "      <td>NaN</td>\n",
       "    </tr>\n",
       "  </tbody>\n",
       "</table>\n",
       "</div>"
      ],
      "text/plain": [
       "          NFL           NBA           NHL           MLB\n",
       "NFL       NaN  1.843955e-05  3.095851e-02  8.023839e-01\n",
       "NBA  0.000018           NaN  3.429605e-09  1.012654e-08\n",
       "NHL  0.030959  3.429605e-09           NaN  7.118714e-04\n",
       "MLB  0.802384  1.012654e-08  7.118714e-04           NaN"
      ]
     },
     "execution_count": 7,
     "metadata": {},
     "output_type": "execute_result"
    }
   ],
   "source": [
    "import pandas as pd\n",
    "import numpy as np\n",
    "import scipy.stats as stats\n",
    "import re\n",
    "import itertools\n",
    "\n",
    "def sports_team_performance():\n",
    "    # YOUR CODE HERE\n",
    "    \n",
    "    mlb_cities_df = create_mlb_cities_df()\n",
    "    nhl_cities_df = create_nhl_cities_df()\n",
    "    nba_cities_df = create_nba_cities_df()\n",
    "    nfl_cities_df = create_nfl_cities_df()\n",
    "\n",
    "    teams_df = {\n",
    "        'NFL' : nfl_cities_df, \n",
    "        'NBA' : nba_cities_df, \n",
    "        'NHL' : nhl_cities_df, \n",
    "        'MLB' : mlb_cities_df\n",
    "    }\n",
    "\n",
    "    # Note: p_values is a full dataframe, so df.loc[\"NFL\",\"NBA\"] should be the same as df.loc[\"NBA\",\"NFL\"] and\n",
    "    # df.loc[\"NFL\",\"NFL\"] should return np.nan\n",
    "    sports = ['NFL', 'NBA', 'NHL', 'MLB']\n",
    "    sports_combinations = [pair for pair in itertools.combinations(sports, 2) if pair[0] != pair[1]]\n",
    "\n",
    "    p_values = pd.DataFrame({k:np.nan for k in sports}, index=sports)\n",
    "\n",
    "    for (teamA, teamB) in sports_combinations:\n",
    "        # print(\"TeamA:\", teamA)\n",
    "        # print(\"TeamB:\", teamB)\n",
    "        df = pd.merge(teams_df[teamA], teams_df[teamB], on=\"Metropolitan area\")\n",
    "        ttest, p_value = stats.ttest_rel(df['W/L%_x'], df['W/L%_y'])\n",
    "        p_values.loc[teamA, teamB] = p_value\n",
    "        p_values.loc[teamB, teamA] = p_value\n",
    "\n",
    "    assert abs(p_values.loc[\"NBA\", \"NHL\"] - 0.02) <= 1e-2, \"The NBA-NHL p-value should be around 0.02\"\n",
    "    assert abs(p_values.loc[\"MLB\", \"NFL\"] - 0.80) <= 1e-2, \"The MLB-NFL p-value should be around 0.80\"\n",
    "    return p_values\n",
    "\n",
    "sports_team_performance()"
   ]
  },
  {
   "cell_type": "code",
   "execution_count": null,
   "metadata": {
    "deletable": false,
    "editable": false,
    "nbgrader": {
     "cell_type": "code",
     "checksum": "2a596ab421a45cc01168d10e8fbb8f89",
     "grade": true,
     "grade_id": "cell-fb4b9cb5ff4570a6",
     "locked": true,
     "points": 20,
     "schema_version": 3,
     "solution": false
    }
   },
   "outputs": [],
   "source": []
  }
 ],
 "metadata": {
  "kernelspec": {
   "display_name": "Python 3 (ipykernel)",
   "language": "python",
   "name": "python3"
  },
  "language_info": {
   "codemirror_mode": {
    "name": "ipython",
    "version": 3
   },
   "file_extension": ".py",
   "mimetype": "text/x-python",
   "name": "python",
   "nbconvert_exporter": "python",
   "pygments_lexer": "ipython3",
   "version": "3.9.13"
  }
 },
 "nbformat": 4,
 "nbformat_minor": 4
}
