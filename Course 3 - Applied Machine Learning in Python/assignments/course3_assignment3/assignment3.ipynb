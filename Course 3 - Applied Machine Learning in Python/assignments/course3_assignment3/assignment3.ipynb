{
 "cells": [
  {
   "cell_type": "markdown",
   "metadata": {
    "deletable": false,
    "editable": false,
    "nbgrader": {
     "cell_type": "markdown",
     "checksum": "e2768483a886ae8ce0265d9e8859068a",
     "grade": false,
     "grade_id": "cell-ad35c39369413f83",
     "locked": true,
     "schema_version": 3,
     "solution": false,
     "task": false
    }
   },
   "source": [
    "---\n",
    "\n",
    "_You are currently looking at **version 0.1** of this notebook. To download notebooks and datafiles, as well as get help on Jupyter notebooks in the Coursera platform, visit the Jupyter Notebook FAQ course resource._\n",
    "\n",
    "---"
   ]
  },
  {
   "cell_type": "code",
   "execution_count": 1,
   "metadata": {
    "deletable": false,
    "editable": false,
    "nbgrader": {
     "cell_type": "code",
     "checksum": "78ebaa94d2ed34f270a36f999ec638cd",
     "grade": false,
     "grade_id": "cell-80e9d85c13c645fd",
     "locked": true,
     "schema_version": 3,
     "solution": false,
     "task": false
    }
   },
   "outputs": [],
   "source": [
    "import numpy as np\n",
    "import pandas as pd"
   ]
  },
  {
   "cell_type": "markdown",
   "metadata": {
    "deletable": false,
    "editable": false,
    "nbgrader": {
     "cell_type": "markdown",
     "checksum": "195500c0fd1abb287b55c1fbf5aab703",
     "grade": false,
     "grade_id": "cell-e0c1d5d545368fe0",
     "locked": true,
     "schema_version": 3,
     "solution": false,
     "task": false
    }
   },
   "source": [
    "### Question 1\n",
    "Import the data from `assets/fraud_data.csv`. What percentage of the observations in the dataset are instances of fraud?\n",
    "\n",
    "*This function should return a float between 0 and 1.* "
   ]
  },
  {
   "cell_type": "code",
   "execution_count": 21,
   "metadata": {
    "deletable": false,
    "nbgrader": {
     "cell_type": "code",
     "checksum": "92fc1620092b7a44f520d3bb2f2a81bf",
     "grade": false,
     "grade_id": "cell-9c71acc0882f1c07",
     "locked": false,
     "schema_version": 3,
     "solution": true,
     "task": false
    }
   },
   "outputs": [
    {
     "data": {
      "text/plain": [
       "0.016410823768035772"
      ]
     },
     "execution_count": 21,
     "metadata": {},
     "output_type": "execute_result"
    }
   ],
   "source": [
    "def answer_one():\n",
    "    # YOUR CODE HERE\n",
    "    df = pd.read_csv(\"assets/fraud_data.csv\")\n",
    "    return df[df['Class'] == 1].shape[0] / df.shape[0]\n",
    "\n",
    "answer_one()"
   ]
  },
  {
   "cell_type": "code",
   "execution_count": null,
   "metadata": {
    "deletable": false,
    "editable": false,
    "nbgrader": {
     "cell_type": "code",
     "checksum": "e40a027a62e6abef7d96ab7e5b0347c3",
     "grade": true,
     "grade_id": "cell-09b987c4d8138e24",
     "locked": true,
     "points": 1,
     "schema_version": 3,
     "solution": false,
     "task": false
    }
   },
   "outputs": [],
   "source": []
  },
  {
   "cell_type": "code",
   "execution_count": 3,
   "metadata": {
    "deletable": false,
    "editable": false,
    "nbgrader": {
     "cell_type": "code",
     "checksum": "0ba0341d27562125bb56f3ec5277a02d",
     "grade": false,
     "grade_id": "cell-62cf0dc0b1f98f9e",
     "locked": true,
     "schema_version": 3,
     "solution": false,
     "task": false
    }
   },
   "outputs": [],
   "source": [
    "# Use X_train, X_test, y_train, y_test for all of the following questions\n",
    "from sklearn.model_selection import train_test_split\n",
    "\n",
    "df = pd.read_csv('assets/fraud_data.csv')\n",
    "\n",
    "X = df.iloc[:,:-1]\n",
    "y = df.iloc[:,-1]\n",
    "\n",
    "X_train, X_test, y_train, y_test = train_test_split(X, y, random_state=0)"
   ]
  },
  {
   "cell_type": "markdown",
   "metadata": {
    "deletable": false,
    "editable": false,
    "nbgrader": {
     "cell_type": "markdown",
     "checksum": "b421718a1f992d43b920e29cf286c745",
     "grade": false,
     "grade_id": "cell-cc63171c6f3c6e9d",
     "locked": true,
     "schema_version": 3,
     "solution": false,
     "task": false
    }
   },
   "source": [
    "### Question 2\n",
    "\n",
    "Using `X_train`, `X_test`, `y_train`, and `y_test` (as defined above), train a dummy classifier that classifies everything as the majority class of the training data. What is the accuracy of this classifier? What is the recall?\n",
    "\n",
    "*This function should a return a tuple with two floats, i.e. `(accuracy score, recall score)`.*"
   ]
  },
  {
   "cell_type": "code",
   "execution_count": 4,
   "metadata": {
    "deletable": false,
    "nbgrader": {
     "cell_type": "code",
     "checksum": "46556467b5cb10fd1939438030fe2ef9",
     "grade": false,
     "grade_id": "cell-ae13208aa0cea621",
     "locked": false,
     "schema_version": 3,
     "solution": true,
     "task": false
    }
   },
   "outputs": [
    {
     "data": {
      "text/plain": [
       "(0.9852507374631269, 0.0)"
      ]
     },
     "execution_count": 4,
     "metadata": {},
     "output_type": "execute_result"
    }
   ],
   "source": [
    "def answer_two():\n",
    "    from sklearn.dummy import DummyClassifier\n",
    "    from sklearn.metrics import recall_score, accuracy_score\n",
    "\n",
    "    # YOUR CODE HERE\n",
    "    clf = DummyClassifier(strategy = 'most_frequent').fit(X_train, y_train)\n",
    "    y_pred = clf.predict(X_test)\n",
    "    acc = accuracy_score(y_test, y_pred)\n",
    "    rec = recall_score(y_test, y_pred)\n",
    "    \n",
    "    return (acc, rec)\n",
    "\n",
    "answer_two()"
   ]
  },
  {
   "cell_type": "code",
   "execution_count": null,
   "metadata": {
    "deletable": false,
    "editable": false,
    "nbgrader": {
     "cell_type": "code",
     "checksum": "75619397016c3f60e01b0babaed83e51",
     "grade": true,
     "grade_id": "cell-a901c7f5cfea1a8c",
     "locked": true,
     "points": 1,
     "schema_version": 3,
     "solution": false,
     "task": false
    }
   },
   "outputs": [],
   "source": []
  },
  {
   "cell_type": "markdown",
   "metadata": {
    "deletable": false,
    "editable": false,
    "nbgrader": {
     "cell_type": "markdown",
     "checksum": "2b34a3918d9036b813e0b0b5bf714d7f",
     "grade": false,
     "grade_id": "cell-3712ad9c5674649b",
     "locked": true,
     "schema_version": 3,
     "solution": false,
     "task": false
    }
   },
   "source": [
    "### Question 3\n",
    "\n",
    "Using X_train, X_test, y_train, y_test (as defined above), train a SVC classifer using the default parameters. What is the accuracy, recall, and precision of this classifier?\n",
    "\n",
    "*This function should a return a tuple with three floats, i.e. `(accuracy score, recall score, precision score)`.*"
   ]
  },
  {
   "cell_type": "code",
   "execution_count": 5,
   "metadata": {
    "deletable": false,
    "nbgrader": {
     "cell_type": "code",
     "checksum": "623aab4a8492d59dbfa4fd3a1d21d660",
     "grade": false,
     "grade_id": "cell-c406ff1cd0d9b9cf",
     "locked": false,
     "schema_version": 3,
     "solution": true,
     "task": false
    }
   },
   "outputs": [
    {
     "data": {
      "text/plain": [
       "(0.9900442477876106, 0.35, 0.9333333333333333)"
      ]
     },
     "execution_count": 5,
     "metadata": {},
     "output_type": "execute_result"
    }
   ],
   "source": [
    "def answer_three():\n",
    "    from sklearn.metrics import accuracy_score, recall_score, precision_score\n",
    "    from sklearn.svm import SVC\n",
    "    \n",
    "    # YOUR CODE HERE\n",
    "    clf = SVC().fit(X_train, y_train)\n",
    "    y_pred = clf.predict(X_test)\n",
    "    acc = accuracy_score(y_test, y_pred)\n",
    "    rec = recall_score(y_test, y_pred)\n",
    "    prec = precision_score(y_test, y_pred)\n",
    "    \n",
    "    return (acc, rec, prec)\n",
    "\n",
    "answer_three()    "
   ]
  },
  {
   "cell_type": "code",
   "execution_count": null,
   "metadata": {
    "deletable": false,
    "editable": false,
    "nbgrader": {
     "cell_type": "code",
     "checksum": "5efade449563c8337b0746b739f492ea",
     "grade": true,
     "grade_id": "cell-30a8c78257c28475",
     "locked": true,
     "points": 1,
     "schema_version": 3,
     "solution": false,
     "task": false
    }
   },
   "outputs": [],
   "source": []
  },
  {
   "cell_type": "markdown",
   "metadata": {
    "deletable": false,
    "editable": false,
    "nbgrader": {
     "cell_type": "markdown",
     "checksum": "f192747899a034d58dabbce7ee21892f",
     "grade": false,
     "grade_id": "cell-a90b8ca88528b575",
     "locked": true,
     "schema_version": 3,
     "solution": false,
     "task": false
    }
   },
   "source": [
    "### Question 4\n",
    "\n",
    "Using the SVC classifier with parameters `{'C': 1e9, 'gamma': 1e-07}`, what is the confusion matrix when using a threshold of -220 on the decision function. Use X_test and y_test.\n",
    "\n",
    "*This function should return a confusion matrix, a 2x2 numpy array with 4 integers.*"
   ]
  },
  {
   "cell_type": "code",
   "execution_count": 29,
   "metadata": {
    "deletable": false,
    "nbgrader": {
     "cell_type": "code",
     "checksum": "61a4ced01e471811f43ba8d9bf26a574",
     "grade": false,
     "grade_id": "cell-702dc0a87f16c21c",
     "locked": false,
     "schema_version": 3,
     "solution": true,
     "task": false
    }
   },
   "outputs": [
    {
     "data": {
      "text/plain": [
       "array([[5320,   24],\n",
       "       [  14,   66]])"
      ]
     },
     "execution_count": 29,
     "metadata": {},
     "output_type": "execute_result"
    }
   ],
   "source": [
    "def answer_four():\n",
    "    from sklearn.metrics import confusion_matrix\n",
    "    from sklearn.svm import SVC\n",
    "    \n",
    "    # YOUR CODE HERE\n",
    "    svc_clf = SVC(C=1e9, gamma=1e-07).fit(X_train, y_train)\n",
    "    decision_scores = svc_clf.decision_function(X_test)\n",
    "    y_pred = (decision_scores > -220).astype(int)\n",
    "    return confusion_matrix(y_test, y_pred) # Return your answer\n",
    "    \n",
    "answer_four()"
   ]
  },
  {
   "cell_type": "code",
   "execution_count": null,
   "metadata": {
    "deletable": false,
    "editable": false,
    "nbgrader": {
     "cell_type": "code",
     "checksum": "d9fe28ecaadc9b125d2fcbd0055a171c",
     "grade": true,
     "grade_id": "cell-d10afc8717f94586",
     "locked": true,
     "points": 1,
     "schema_version": 3,
     "solution": false,
     "task": false
    }
   },
   "outputs": [],
   "source": []
  },
  {
   "cell_type": "markdown",
   "metadata": {
    "deletable": false,
    "editable": false,
    "nbgrader": {
     "cell_type": "markdown",
     "checksum": "e95ea69114979ea0f84107954ec347d3",
     "grade": false,
     "grade_id": "cell-70bf75a83d786ad3",
     "locked": true,
     "schema_version": 3,
     "solution": false,
     "task": false
    }
   },
   "source": [
    "### Question 5\n",
    "\n",
    "Train a logisitic regression classifier with default parameters using X_train and y_train. This classifier should use the parameter solver='liblinear'.\n",
    "\n",
    "For the logisitic regression classifier, compute the scores using decision_function() or with predict_proba(), then create a precision recall curve and a roc curve using y_test and the probability estimates for X_test (probability it is fraud).\n",
    "\n",
    "Looking at the precision recall curve, what is the recall when the precision is `0.75`?\n",
    "\n",
    "Looking at the roc curve, what is the true positive rate when the false positive rate is `0.16`?\n",
    "\n",
    "Note: When getting the ROC curve and finding the records where the FPR entry is closest to 0.16, take the corresponding TPRs. As there are two such records where the FPR is close to 0.16, take the higher TPR of these two records.\n",
    "\n",
    "*This function should return a tuple with two floats, i.e. `(recall, true positive rate)`.*"
   ]
  },
  {
   "cell_type": "code",
   "execution_count": 23,
   "metadata": {
    "deletable": false,
    "nbgrader": {
     "cell_type": "code",
     "checksum": "a82ea845c3936f4c23c5753d28faccdd",
     "grade": false,
     "grade_id": "cell-4ee963ef1994f461",
     "locked": false,
     "schema_version": 3,
     "solution": true,
     "task": false
    }
   },
   "outputs": [
    {
     "data": {
      "text/plain": [
       "(0.825, 0.95)"
      ]
     },
     "execution_count": 23,
     "metadata": {},
     "output_type": "execute_result"
    }
   ],
   "source": [
    "# YOUR CODE HERE\n",
    "from sklearn.linear_model import LogisticRegression\n",
    "from sklearn.metrics import recall_score, roc_curve, precision_recall_curve\n",
    "import matplotlib.pyplot as plt\n",
    "%matplotlib widget\n",
    "\n",
    "def answer_five():\n",
    "    lr_clf = LogisticRegression(solver='liblinear').fit(X_train, y_train)\n",
    "    y_score = lr_clf.decision_function(X_test)\n",
    "    fpr, tpr, thresholds = roc_curve(y_test, y_score)\n",
    "    precision, recall, thresholds = precision_recall_curve(y_test, y_score)\n",
    "    \n",
    "#     for x in list(zip(precision, recall)):\n",
    "#         print(\"Precision-Recall\", x)\n",
    "        \n",
    "#     for x in list(zip(fpr, tpr)):\n",
    "#         print(\"FPR-TPR\", x)\n",
    "    \n",
    "#     fig, (ax1, ax2) = plt.subplots(2, 1)\n",
    "    \n",
    "#     # using padding\n",
    "#     fig.tight_layout(pad=5.0)\n",
    "    \n",
    "#     ax1.plot(precision, recall)\n",
    "#     ax1.set_title('precision vs recall curve')\n",
    "#     ax1.set_xlabel('precision')\n",
    "#     ax1.set_ylabel('recall')\n",
    "\n",
    "#     ax2.plot(fpr, tpr)\n",
    "#     ax2.set_title('FPR vs TPR curve')\n",
    "#     ax2.set_xlabel('FPR')\n",
    "#     ax2.set_ylabel('TPR')\n",
    "\n",
    "    return (0.825, 0.95)\n",
    "\n",
    "answer_five()"
   ]
  },
  {
   "cell_type": "code",
   "execution_count": null,
   "metadata": {
    "deletable": false,
    "editable": false,
    "nbgrader": {
     "cell_type": "code",
     "checksum": "e1ac987569d588d842dacca9789be36d",
     "grade": true,
     "grade_id": "cell-17abc112ffe76f05",
     "locked": true,
     "points": 1,
     "schema_version": 3,
     "solution": false,
     "task": false
    }
   },
   "outputs": [],
   "source": []
  },
  {
   "cell_type": "markdown",
   "metadata": {
    "deletable": false,
    "editable": false,
    "nbgrader": {
     "cell_type": "markdown",
     "checksum": "07e877eccc933ca264ba74e2c75177a0",
     "grade": false,
     "grade_id": "cell-7e8f17384891743a",
     "locked": true,
     "schema_version": 3,
     "solution": false,
     "task": false
    }
   },
   "source": [
    "### Question 6\n",
    "\n",
    "Perform a grid search over the parameters listed below for a Logisitic Regression classifier, using recall for scoring and the default 3-fold cross validation. (Suggest to use `solver='liblinear'`, more explanation [here](https://scikit-learn.org/stable/modules/generated/sklearn.linear_model.LogisticRegression.html))\n",
    "\n",
    "`'penalty': ['l1', 'l2']`\n",
    "\n",
    "`'C':[0.01, 0.1, 1, 10]`\n",
    "\n",
    "From `.cv_results_`, create an array of the mean test scores of each parameter combination. i.e.\n",
    "\n",
    "|      \t| `l1` \t| `l2` \t|\n",
    "|:----:\t|----\t|----\t|\n",
    "| **`0.01`** \t|    ?\t|   ? \t|\n",
    "| **`0.1`**  \t|    ?\t|   ? \t|\n",
    "| **`1`**    \t|    ?\t|   ? \t|\n",
    "| **`10`**   \t|    ?\t|   ? \t|\n",
    "\n",
    "<br>\n",
    "\n",
    "*This function should return a 4 by 2 numpy array with 8 floats.* \n",
    "\n",
    "*Note: do not return a DataFrame, just the values denoted by `?` in a numpy array.*"
   ]
  },
  {
   "cell_type": "code",
   "execution_count": 16,
   "metadata": {
    "deletable": false,
    "nbgrader": {
     "cell_type": "code",
     "checksum": "d455f68bbc10f87eed55511dfb3e0b81",
     "grade": false,
     "grade_id": "cell-970bb71bdd1a3c35",
     "locked": false,
     "schema_version": 3,
     "solution": true,
     "task": false
    }
   },
   "outputs": [
    {
     "data": {
      "text/plain": [
       "array([[0.69558442, 0.77168831],\n",
       "       [0.80792208, 0.81155844],\n",
       "       [0.80428571, 0.81149351],\n",
       "       [0.80064935, 0.80064935]])"
      ]
     },
     "execution_count": 16,
     "metadata": {},
     "output_type": "execute_result"
    }
   ],
   "source": [
    "def answer_six():    \n",
    "    from sklearn.model_selection import GridSearchCV\n",
    "    from sklearn.linear_model import LogisticRegression\n",
    "\n",
    "    # YOUR CODE HERE\n",
    "    clf = LogisticRegression(solver='liblinear')\n",
    "    grid_values = {'penalty': ['l1', 'l2'], 'C': [0.01, 0.1, 1, 10]}\n",
    "    grid_clf = GridSearchCV(clf, param_grid = grid_values, scoring='recall')\n",
    "    grid_clf.fit(X_train, y_train)\n",
    "    return grid_clf.cv_results_['mean_test_score'].reshape(4,2) \n",
    "\n",
    "answer_six()"
   ]
  },
  {
   "cell_type": "code",
   "execution_count": null,
   "metadata": {
    "deletable": false,
    "editable": false,
    "nbgrader": {
     "cell_type": "code",
     "checksum": "86adef854a10996ddd1edef52b834632",
     "grade": true,
     "grade_id": "cell-6632a909e296b185",
     "locked": true,
     "points": 0,
     "schema_version": 3,
     "solution": false,
     "task": false
    }
   },
   "outputs": [],
   "source": []
  },
  {
   "cell_type": "code",
   "execution_count": 18,
   "metadata": {},
   "outputs": [
    {
     "name": "stdout",
     "output_type": "stream",
     "text": [
      "Warning: Cannot change to a different GUI toolkit: notebook. Using widget instead.\n"
     ]
    },
    {
     "data": {
      "application/vnd.jupyter.widget-view+json": {
       "model_id": "3f99ed7dbf284a08abed419902855d50",
       "version_major": 2,
       "version_minor": 0
      },
      "image/png": "[encoded data removed]",
      "text/html": [
       "\n",
       "            <div style=\"display: inline-block;\">\n",
       "                <div class=\"jupyter-widgets widget-label\" style=\"text-align: center;\">\n",
       "                    Figure\n",
       "                </div>\n",
       "                <img src='data:image/png;base64,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' width=640.0/>\n",
       "            </div>\n",
       "        "
      ],
      "text/plain": [
       "Canvas(toolbar=Toolbar(toolitems=[('Home', 'Reset original view', 'home', 'home'), ('Back', 'Back to previous …"
      ]
     },
     "metadata": {},
     "output_type": "display_data"
    }
   ],
   "source": [
    "# Use the following function to help visualize results from the grid search\n",
    "def GridSearch_Heatmap(scores):\n",
    "    %matplotlib notebook\n",
    "    import seaborn as sns\n",
    "    import matplotlib.pyplot as plt\n",
    "    plt.figure()\n",
    "    sns.heatmap(scores.reshape(4,2), xticklabels=['l1','l2'], yticklabels=[0.01, 0.1, 1, 10])\n",
    "    plt.yticks(rotation=0);\n",
    "\n",
    "GridSearch_Heatmap(answer_six())"
   ]
  },
  {
   "cell_type": "code",
   "execution_count": null,
   "metadata": {},
   "outputs": [],
   "source": []
  },
  {
   "cell_type": "code",
   "execution_count": null,
   "metadata": {},
   "outputs": [],
   "source": []
  }
 ],
 "metadata": {
  "kernelspec": {
   "display_name": "Python 3 (ipykernel)",
   "language": "python",
   "name": "python3"
  },
  "language_info": {
   "codemirror_mode": {
    "name": "ipython",
    "version": 3
   },
   "file_extension": ".py",
   "mimetype": "text/x-python",
   "name": "python",
   "nbconvert_exporter": "python",
   "pygments_lexer": "ipython3",
   "version": "3.9.13"
  }
 },
 "nbformat": 4,
 "nbformat_minor": 4
}
